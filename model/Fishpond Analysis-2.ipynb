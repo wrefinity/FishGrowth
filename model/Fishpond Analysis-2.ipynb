{
 "cells": [
  {
   "cell_type": "markdown",
   "id": "46e5929a",
   "metadata": {},
   "source": [
    "## Importing the necessary libraries"
   ]
  },
  {
   "cell_type": "code",
   "execution_count": 134,
   "id": "febf82e3",
   "metadata": {},
   "outputs": [],
   "source": [
    "import numpy as np\n",
    "import pandas as pd\n",
    "from sklearn.model_selection import train_test_split\n",
    "# Import the StandardScaler\n",
    "from sklearn.preprocessing import StandardScaler, RobustScaler\n",
    "\n",
    "# model to be applied\n",
    "from sklearn.metrics import mean_squared_error, mean_absolute_error, r2_score\n",
    "from sklearn.ensemble import RandomForestRegressor\n",
    "# export the model\n",
    "import pickle"
   ]
  },
  {
   "cell_type": "code",
   "execution_count": 119,
   "id": "d8f73168",
   "metadata": {},
   "outputs": [],
   "source": [
    "# Read the CSV file, \n",
    "df = pd.read_csv('IoTPond3.csv')"
   ]
  },
  {
   "cell_type": "code",
   "execution_count": 120,
   "id": "abb9e46e",
   "metadata": {
    "scrolled": true
   },
   "outputs": [
    {
     "data": {
      "text/html": [
       "<div>\n",
       "<style scoped>\n",
       "    .dataframe tbody tr th:only-of-type {\n",
       "        vertical-align: middle;\n",
       "    }\n",
       "\n",
       "    .dataframe tbody tr th {\n",
       "        vertical-align: top;\n",
       "    }\n",
       "\n",
       "    .dataframe thead th {\n",
       "        text-align: right;\n",
       "    }\n",
       "</style>\n",
       "<table border=\"1\" class=\"dataframe\">\n",
       "  <thead>\n",
       "    <tr style=\"text-align: right;\">\n",
       "      <th></th>\n",
       "      <th>created_at</th>\n",
       "      <th>entry_id</th>\n",
       "      <th>Temperature(C)</th>\n",
       "      <th>Turbidity(NTU)</th>\n",
       "      <th>Dissolved Oxygen(g/ml)</th>\n",
       "      <th>PH</th>\n",
       "      <th>Ammonia(g/ml)</th>\n",
       "      <th>Nitrate(g/ml)</th>\n",
       "      <th>Population</th>\n",
       "      <th>Fish_Length(cm)</th>\n",
       "      <th>Fish_Weight(g)</th>\n",
       "    </tr>\n",
       "  </thead>\n",
       "  <tbody>\n",
       "    <tr>\n",
       "      <th>0</th>\n",
       "      <td>2021-06-19 00:00:04 CET</td>\n",
       "      <td>1941</td>\n",
       "      <td>23.75</td>\n",
       "      <td>80</td>\n",
       "      <td>27.736</td>\n",
       "      <td>7.04911</td>\n",
       "      <td>5.15546</td>\n",
       "      <td>114</td>\n",
       "      <td>50</td>\n",
       "      <td>6.74</td>\n",
       "      <td>3.2</td>\n",
       "    </tr>\n",
       "    <tr>\n",
       "      <th>1</th>\n",
       "      <td>2021-06-19 00:00:26 CET</td>\n",
       "      <td>1942</td>\n",
       "      <td>23.75</td>\n",
       "      <td>80</td>\n",
       "      <td>4.195</td>\n",
       "      <td>7.09450</td>\n",
       "      <td>4.53072</td>\n",
       "      <td>114</td>\n",
       "      <td>50</td>\n",
       "      <td>6.74</td>\n",
       "      <td>3.2</td>\n",
       "    </tr>\n",
       "    <tr>\n",
       "      <th>2</th>\n",
       "      <td>2021-06-19 00:02:03 CET</td>\n",
       "      <td>1945</td>\n",
       "      <td>23.75</td>\n",
       "      <td>80</td>\n",
       "      <td>10.310</td>\n",
       "      <td>7.07635</td>\n",
       "      <td>5.21473</td>\n",
       "      <td>113</td>\n",
       "      <td>50</td>\n",
       "      <td>6.74</td>\n",
       "      <td>3.2</td>\n",
       "    </tr>\n",
       "    <tr>\n",
       "      <th>3</th>\n",
       "      <td>2021-06-19 00:02:26 CET</td>\n",
       "      <td>1946</td>\n",
       "      <td>23.75</td>\n",
       "      <td>81</td>\n",
       "      <td>1.196</td>\n",
       "      <td>7.07181</td>\n",
       "      <td>5.41747</td>\n",
       "      <td>100</td>\n",
       "      <td>50</td>\n",
       "      <td>6.74</td>\n",
       "      <td>3.2</td>\n",
       "    </tr>\n",
       "    <tr>\n",
       "      <th>4</th>\n",
       "      <td>2021-06-19 00:03:31 CET</td>\n",
       "      <td>1948</td>\n",
       "      <td>23.75</td>\n",
       "      <td>80</td>\n",
       "      <td>2.338</td>\n",
       "      <td>7.08996</td>\n",
       "      <td>5.45899</td>\n",
       "      <td>112</td>\n",
       "      <td>50</td>\n",
       "      <td>6.74</td>\n",
       "      <td>3.2</td>\n",
       "    </tr>\n",
       "  </tbody>\n",
       "</table>\n",
       "</div>"
      ],
      "text/plain": [
       "                created_at  entry_id  Temperature(C)  Turbidity(NTU)  \\\n",
       "0  2021-06-19 00:00:04 CET      1941           23.75              80   \n",
       "1  2021-06-19 00:00:26 CET      1942           23.75              80   \n",
       "2  2021-06-19 00:02:03 CET      1945           23.75              80   \n",
       "3  2021-06-19 00:02:26 CET      1946           23.75              81   \n",
       "4  2021-06-19 00:03:31 CET      1948           23.75              80   \n",
       "\n",
       "   Dissolved Oxygen(g/ml)       PH  Ammonia(g/ml)  Nitrate(g/ml)  Population  \\\n",
       "0                  27.736  7.04911        5.15546            114          50   \n",
       "1                   4.195  7.09450        4.53072            114          50   \n",
       "2                  10.310  7.07635        5.21473            113          50   \n",
       "3                   1.196  7.07181        5.41747            100          50   \n",
       "4                   2.338  7.08996        5.45899            112          50   \n",
       "\n",
       "   Fish_Length(cm)  Fish_Weight(g)  \n",
       "0             6.74             3.2  \n",
       "1             6.74             3.2  \n",
       "2             6.74             3.2  \n",
       "3             6.74             3.2  \n",
       "4             6.74             3.2  "
      ]
     },
     "execution_count": 120,
     "metadata": {},
     "output_type": "execute_result"
    }
   ],
   "source": [
    "# Display the data\n",
    "df.head()"
   ]
  },
  {
   "cell_type": "code",
   "execution_count": 121,
   "id": "e7fae2fd",
   "metadata": {},
   "outputs": [
    {
     "data": {
      "text/plain": [
       "(169185, 11)"
      ]
     },
     "execution_count": 121,
     "metadata": {},
     "output_type": "execute_result"
    }
   ],
   "source": [
    "# Retrieve the dimensions of the DataFrame 'tempdata'\n",
    "df.shape"
   ]
  },
  {
   "cell_type": "code",
   "execution_count": 122,
   "id": "81352529",
   "metadata": {},
   "outputs": [
    {
     "name": "stdout",
     "output_type": "stream",
     "text": [
      "Index(['created_at', 'entry_id', 'Temperature(C)', 'Turbidity(NTU)',\n",
      "       'Dissolved Oxygen(g/ml)', 'PH', 'Ammonia(g/ml)', 'Nitrate(g/ml)',\n",
      "       'Population', 'Fish_Length(cm)', 'Fish_Weight(g)'],\n",
      "      dtype='object')\n"
     ]
    }
   ],
   "source": [
    "# Check column names using .columns attribute\n",
    "column_names = df.columns\n",
    "print(column_names)"
   ]
  },
  {
   "cell_type": "code",
   "execution_count": 123,
   "id": "548c8173",
   "metadata": {},
   "outputs": [],
   "source": [
    "# Remove rows with missing values\n",
    "df = df.dropna()"
   ]
  },
  {
   "cell_type": "code",
   "execution_count": 124,
   "id": "2bd7b1a3",
   "metadata": {},
   "outputs": [
    {
     "name": "stdout",
     "output_type": "stream",
     "text": [
      "Missing Values:\n",
      "created_at                0\n",
      "entry_id                  0\n",
      "Temperature(C)            0\n",
      "Turbidity(NTU)            0\n",
      "Dissolved Oxygen(g/ml)    0\n",
      "PH                        0\n",
      "Ammonia(g/ml)             0\n",
      "Nitrate(g/ml)             0\n",
      "Population                0\n",
      "Fish_Length(cm)           0\n",
      "Fish_Weight(g)            0\n",
      "dtype: int64\n"
     ]
    }
   ],
   "source": [
    "# Check for missing values\n",
    "missing_values = df.isnull().sum()\n",
    "print(\"Missing Values:\")\n",
    "print(missing_values)"
   ]
  },
  {
   "cell_type": "code",
   "execution_count": 125,
   "id": "bac383b2",
   "metadata": {},
   "outputs": [],
   "source": [
    "# Remove duplicate rows: Look for and remove duplicate rows if they exist.\n",
    "df.drop_duplicates(inplace=True)"
   ]
  },
  {
   "cell_type": "code",
   "execution_count": 126,
   "id": "008aab88",
   "metadata": {},
   "outputs": [],
   "source": [
    "# Check for and handle missing values\n",
    "df.dropna(inplace=True, axis=1)"
   ]
  },
  {
   "cell_type": "code",
   "execution_count": 127,
   "id": "d4e8468e",
   "metadata": {},
   "outputs": [
    {
     "data": {
      "text/plain": [
       "(169078, 11)"
      ]
     },
     "execution_count": 127,
     "metadata": {},
     "output_type": "execute_result"
    }
   ],
   "source": [
    "df.shape"
   ]
  },
  {
   "cell_type": "code",
   "execution_count": 128,
   "id": "3a5bbb10",
   "metadata": {},
   "outputs": [
    {
     "name": "stdout",
     "output_type": "stream",
     "text": [
      "Column 'Ammonia(g/ml)' contains infinite values.\n"
     ]
    }
   ],
   "source": [
    "# Check for infinite values in each column\n",
    "for column in df.columns:\n",
    "    has_infinite_values = df[column].isin([np.inf, -np.inf]).any()\n",
    "    if has_infinite_values:\n",
    "        print(f\"Column '{column}' contains infinite values.\")"
   ]
  },
  {
   "cell_type": "code",
   "execution_count": 129,
   "id": "43857977",
   "metadata": {},
   "outputs": [
    {
     "data": {
      "text/html": [
       "<div>\n",
       "<style scoped>\n",
       "    .dataframe tbody tr th:only-of-type {\n",
       "        vertical-align: middle;\n",
       "    }\n",
       "\n",
       "    .dataframe tbody tr th {\n",
       "        vertical-align: top;\n",
       "    }\n",
       "\n",
       "    .dataframe thead th {\n",
       "        text-align: right;\n",
       "    }\n",
       "</style>\n",
       "<table border=\"1\" class=\"dataframe\">\n",
       "  <thead>\n",
       "    <tr style=\"text-align: right;\">\n",
       "      <th></th>\n",
       "      <th>Temperature(C)</th>\n",
       "      <th>Turbidity(NTU)</th>\n",
       "      <th>Dissolved Oxygen(g/ml)</th>\n",
       "      <th>PH</th>\n",
       "      <th>Ammonia(g/ml)</th>\n",
       "      <th>Nitrate(g/ml)</th>\n",
       "      <th>Population</th>\n",
       "      <th>Fish_Length(cm)</th>\n",
       "      <th>Fish_Weight(g)</th>\n",
       "    </tr>\n",
       "  </thead>\n",
       "  <tbody>\n",
       "    <tr>\n",
       "      <th>0</th>\n",
       "      <td>23.7500</td>\n",
       "      <td>80</td>\n",
       "      <td>27.736</td>\n",
       "      <td>7.04911</td>\n",
       "      <td>5.15546</td>\n",
       "      <td>114</td>\n",
       "      <td>50</td>\n",
       "      <td>6.74</td>\n",
       "      <td>3.20</td>\n",
       "    </tr>\n",
       "    <tr>\n",
       "      <th>1</th>\n",
       "      <td>23.7500</td>\n",
       "      <td>80</td>\n",
       "      <td>4.195</td>\n",
       "      <td>7.09450</td>\n",
       "      <td>4.53072</td>\n",
       "      <td>114</td>\n",
       "      <td>50</td>\n",
       "      <td>6.74</td>\n",
       "      <td>3.20</td>\n",
       "    </tr>\n",
       "    <tr>\n",
       "      <th>2</th>\n",
       "      <td>23.7500</td>\n",
       "      <td>80</td>\n",
       "      <td>10.310</td>\n",
       "      <td>7.07635</td>\n",
       "      <td>5.21473</td>\n",
       "      <td>113</td>\n",
       "      <td>50</td>\n",
       "      <td>6.74</td>\n",
       "      <td>3.20</td>\n",
       "    </tr>\n",
       "    <tr>\n",
       "      <th>3</th>\n",
       "      <td>23.7500</td>\n",
       "      <td>81</td>\n",
       "      <td>1.196</td>\n",
       "      <td>7.07181</td>\n",
       "      <td>5.41747</td>\n",
       "      <td>100</td>\n",
       "      <td>50</td>\n",
       "      <td>6.74</td>\n",
       "      <td>3.20</td>\n",
       "    </tr>\n",
       "    <tr>\n",
       "      <th>4</th>\n",
       "      <td>23.7500</td>\n",
       "      <td>80</td>\n",
       "      <td>2.338</td>\n",
       "      <td>7.08996</td>\n",
       "      <td>5.45899</td>\n",
       "      <td>112</td>\n",
       "      <td>50</td>\n",
       "      <td>6.74</td>\n",
       "      <td>3.20</td>\n",
       "    </tr>\n",
       "    <tr>\n",
       "      <th>...</th>\n",
       "      <td>...</td>\n",
       "      <td>...</td>\n",
       "      <td>...</td>\n",
       "      <td>...</td>\n",
       "      <td>...</td>\n",
       "      <td>...</td>\n",
       "      <td>...</td>\n",
       "      <td>...</td>\n",
       "      <td>...</td>\n",
       "    </tr>\n",
       "    <tr>\n",
       "      <th>169180</th>\n",
       "      <td>25.6875</td>\n",
       "      <td>100</td>\n",
       "      <td>5.080</td>\n",
       "      <td>1.52004</td>\n",
       "      <td>0.00000</td>\n",
       "      <td>302</td>\n",
       "      <td>50</td>\n",
       "      <td>33.00</td>\n",
       "      <td>294.92</td>\n",
       "    </tr>\n",
       "    <tr>\n",
       "      <th>169181</th>\n",
       "      <td>25.6600</td>\n",
       "      <td>100</td>\n",
       "      <td>5.080</td>\n",
       "      <td>1.43379</td>\n",
       "      <td>0.00000</td>\n",
       "      <td>285</td>\n",
       "      <td>50</td>\n",
       "      <td>33.00</td>\n",
       "      <td>294.92</td>\n",
       "    </tr>\n",
       "    <tr>\n",
       "      <th>169182</th>\n",
       "      <td>25.3750</td>\n",
       "      <td>100</td>\n",
       "      <td>5.080</td>\n",
       "      <td>1.28853</td>\n",
       "      <td>0.00000</td>\n",
       "      <td>299</td>\n",
       "      <td>50</td>\n",
       "      <td>33.00</td>\n",
       "      <td>294.92</td>\n",
       "    </tr>\n",
       "    <tr>\n",
       "      <th>169183</th>\n",
       "      <td>25.4375</td>\n",
       "      <td>100</td>\n",
       "      <td>5.080</td>\n",
       "      <td>1.14327</td>\n",
       "      <td>0.00000</td>\n",
       "      <td>282</td>\n",
       "      <td>50</td>\n",
       "      <td>33.00</td>\n",
       "      <td>294.92</td>\n",
       "    </tr>\n",
       "    <tr>\n",
       "      <th>169184</th>\n",
       "      <td>25.4375</td>\n",
       "      <td>100</td>\n",
       "      <td>5.080</td>\n",
       "      <td>1.04340</td>\n",
       "      <td>0.00000</td>\n",
       "      <td>291</td>\n",
       "      <td>50</td>\n",
       "      <td>33.00</td>\n",
       "      <td>294.92</td>\n",
       "    </tr>\n",
       "  </tbody>\n",
       "</table>\n",
       "<p>169078 rows × 9 columns</p>\n",
       "</div>"
      ],
      "text/plain": [
       "        Temperature(C)  Turbidity(NTU)  Dissolved Oxygen(g/ml)       PH  \\\n",
       "0              23.7500              80                  27.736  7.04911   \n",
       "1              23.7500              80                   4.195  7.09450   \n",
       "2              23.7500              80                  10.310  7.07635   \n",
       "3              23.7500              81                   1.196  7.07181   \n",
       "4              23.7500              80                   2.338  7.08996   \n",
       "...                ...             ...                     ...      ...   \n",
       "169180         25.6875             100                   5.080  1.52004   \n",
       "169181         25.6600             100                   5.080  1.43379   \n",
       "169182         25.3750             100                   5.080  1.28853   \n",
       "169183         25.4375             100                   5.080  1.14327   \n",
       "169184         25.4375             100                   5.080  1.04340   \n",
       "\n",
       "        Ammonia(g/ml)  Nitrate(g/ml)  Population  Fish_Length(cm)  \\\n",
       "0             5.15546            114          50             6.74   \n",
       "1             4.53072            114          50             6.74   \n",
       "2             5.21473            113          50             6.74   \n",
       "3             5.41747            100          50             6.74   \n",
       "4             5.45899            112          50             6.74   \n",
       "...               ...            ...         ...              ...   \n",
       "169180        0.00000            302          50            33.00   \n",
       "169181        0.00000            285          50            33.00   \n",
       "169182        0.00000            299          50            33.00   \n",
       "169183        0.00000            282          50            33.00   \n",
       "169184        0.00000            291          50            33.00   \n",
       "\n",
       "        Fish_Weight(g)  \n",
       "0                 3.20  \n",
       "1                 3.20  \n",
       "2                 3.20  \n",
       "3                 3.20  \n",
       "4                 3.20  \n",
       "...                ...  \n",
       "169180          294.92  \n",
       "169181          294.92  \n",
       "169182          294.92  \n",
       "169183          294.92  \n",
       "169184          294.92  \n",
       "\n",
       "[169078 rows x 9 columns]"
      ]
     },
     "execution_count": 129,
     "metadata": {},
     "output_type": "execute_result"
    }
   ],
   "source": [
    "df = df.drop(['created_at', 'entry_id'], axis=1)\n",
    "df"
   ]
  },
  {
   "cell_type": "code",
   "execution_count": 130,
   "id": "abd69ac3",
   "metadata": {},
   "outputs": [],
   "source": [
    "# Replace infinite values in the 'Ammonia(g/ml)' column with 0\n",
    "# considering that the amonia consist of several infinity value\n",
    "df['Ammonia(g/ml)'] = df['Ammonia(g/ml)'].replace([np.inf, -np.inf], 0)"
   ]
  },
  {
   "cell_type": "code",
   "execution_count": 131,
   "id": "7d8b3998",
   "metadata": {},
   "outputs": [
    {
     "data": {
      "text/html": [
       "<div>\n",
       "<style scoped>\n",
       "    .dataframe tbody tr th:only-of-type {\n",
       "        vertical-align: middle;\n",
       "    }\n",
       "\n",
       "    .dataframe tbody tr th {\n",
       "        vertical-align: top;\n",
       "    }\n",
       "\n",
       "    .dataframe thead th {\n",
       "        text-align: right;\n",
       "    }\n",
       "</style>\n",
       "<table border=\"1\" class=\"dataframe\">\n",
       "  <thead>\n",
       "    <tr style=\"text-align: right;\">\n",
       "      <th></th>\n",
       "      <th>Temperature(C)</th>\n",
       "      <th>Turbidity(NTU)</th>\n",
       "      <th>Dissolved Oxygen(g/ml)</th>\n",
       "      <th>PH</th>\n",
       "      <th>Ammonia(g/ml)</th>\n",
       "      <th>Nitrate(g/ml)</th>\n",
       "      <th>Population</th>\n",
       "      <th>Fish_Length(cm)</th>\n",
       "      <th>Fish_Weight(g)</th>\n",
       "    </tr>\n",
       "  </thead>\n",
       "  <tbody>\n",
       "    <tr>\n",
       "      <th>0</th>\n",
       "      <td>23.75</td>\n",
       "      <td>80</td>\n",
       "      <td>27.736</td>\n",
       "      <td>7.04911</td>\n",
       "      <td>5.15546</td>\n",
       "      <td>114</td>\n",
       "      <td>50</td>\n",
       "      <td>6.74</td>\n",
       "      <td>3.2</td>\n",
       "    </tr>\n",
       "    <tr>\n",
       "      <th>1</th>\n",
       "      <td>23.75</td>\n",
       "      <td>80</td>\n",
       "      <td>4.195</td>\n",
       "      <td>7.09450</td>\n",
       "      <td>4.53072</td>\n",
       "      <td>114</td>\n",
       "      <td>50</td>\n",
       "      <td>6.74</td>\n",
       "      <td>3.2</td>\n",
       "    </tr>\n",
       "    <tr>\n",
       "      <th>2</th>\n",
       "      <td>23.75</td>\n",
       "      <td>80</td>\n",
       "      <td>10.310</td>\n",
       "      <td>7.07635</td>\n",
       "      <td>5.21473</td>\n",
       "      <td>113</td>\n",
       "      <td>50</td>\n",
       "      <td>6.74</td>\n",
       "      <td>3.2</td>\n",
       "    </tr>\n",
       "    <tr>\n",
       "      <th>3</th>\n",
       "      <td>23.75</td>\n",
       "      <td>81</td>\n",
       "      <td>1.196</td>\n",
       "      <td>7.07181</td>\n",
       "      <td>5.41747</td>\n",
       "      <td>100</td>\n",
       "      <td>50</td>\n",
       "      <td>6.74</td>\n",
       "      <td>3.2</td>\n",
       "    </tr>\n",
       "    <tr>\n",
       "      <th>4</th>\n",
       "      <td>23.75</td>\n",
       "      <td>80</td>\n",
       "      <td>2.338</td>\n",
       "      <td>7.08996</td>\n",
       "      <td>5.45899</td>\n",
       "      <td>112</td>\n",
       "      <td>50</td>\n",
       "      <td>6.74</td>\n",
       "      <td>3.2</td>\n",
       "    </tr>\n",
       "  </tbody>\n",
       "</table>\n",
       "</div>"
      ],
      "text/plain": [
       "   Temperature(C)  Turbidity(NTU)  Dissolved Oxygen(g/ml)       PH  \\\n",
       "0           23.75              80                  27.736  7.04911   \n",
       "1           23.75              80                   4.195  7.09450   \n",
       "2           23.75              80                  10.310  7.07635   \n",
       "3           23.75              81                   1.196  7.07181   \n",
       "4           23.75              80                   2.338  7.08996   \n",
       "\n",
       "   Ammonia(g/ml)  Nitrate(g/ml)  Population  Fish_Length(cm)  Fish_Weight(g)  \n",
       "0        5.15546            114          50             6.74             3.2  \n",
       "1        4.53072            114          50             6.74             3.2  \n",
       "2        5.21473            113          50             6.74             3.2  \n",
       "3        5.41747            100          50             6.74             3.2  \n",
       "4        5.45899            112          50             6.74             3.2  "
      ]
     },
     "execution_count": 131,
     "metadata": {},
     "output_type": "execute_result"
    }
   ],
   "source": [
    "df.head()"
   ]
  },
  {
   "cell_type": "code",
   "execution_count": 132,
   "id": "30ab4822",
   "metadata": {},
   "outputs": [],
   "source": [
    "X = df.drop(\"Fish_Weight(g)\", axis=1) # Features\n",
    "y = df[\"Fish_Weight(g)\"] # Target variable"
   ]
  },
  {
   "cell_type": "code",
   "execution_count": 135,
   "id": "8db58215",
   "metadata": {},
   "outputs": [],
   "source": [
    "# Create a RobustScaler instance\n",
    "scaler = RobustScaler()\n",
    "# Fit the scaler to your feature data (X)\n",
    "scaler.fit(X)\n",
    "# Transform your data using the scaler\n",
    "X_scaled = scaler.transform(X)"
   ]
  },
  {
   "cell_type": "code",
   "execution_count": 136,
   "id": "2c7aa3f8",
   "metadata": {},
   "outputs": [],
   "source": [
    "X_train, X_test, y_train, y_test = train_test_split(X, y, test_size=0.2, random_state=42)"
   ]
  },
  {
   "cell_type": "markdown",
   "id": "65d694ea",
   "metadata": {},
   "source": [
    "# Random Forest Regression Model Performance Result"
   ]
  },
  {
   "cell_type": "code",
   "execution_count": 137,
   "id": "d7a946f3",
   "metadata": {},
   "outputs": [
    {
     "name": "stdout",
     "output_type": "stream",
     "text": [
      "Mean Squared Error (MSE): 0.00031113800449491315\n",
      "Mean Absolute Percentage Error (MAPE): 0.00010942690283709643%\n",
      "R-squared (R2) Score: 0.9999998499398451\n",
      "Root Mean Squared Error (RMSE): 0.017639104413062278\n",
      "\n"
     ]
    }
   ],
   "source": [
    "# Create and train regression models\n",
    "random_forest_model = RandomForestRegressor(n_estimators=100, random_state=42)\n",
    "random_forest_model.fit(X_train, y_train)\n",
    "y_pred = random_forest_model.predict(X_test)\n",
    "mse = mean_squared_error(y_test, y_pred)\n",
    "mape = np.mean(np.abs((y_test - y_pred) / y_test)) * 100\n",
    "r2 = r2_score(y_test, y_pred)\n",
    "rmse = np.sqrt(mse)\n",
    "\n",
    "print(f'Mean Squared Error (MSE): {mse}')\n",
    "print(f'Mean Absolute Percentage Error (MAPE): {mape}%')\n",
    "print(f'R-squared (R2) Score: {r2}')\n",
    "print(f'Root Mean Squared Error (RMSE): {rmse}\\n')"
   ]
  },
  {
   "cell_type": "code",
   "execution_count": 138,
   "id": "6534c780",
   "metadata": {},
   "outputs": [
    {
     "name": "stdout",
     "output_type": "stream",
     "text": [
      "Meta-model saved to meta_model.pkl\n"
     ]
    }
   ],
   "source": [
    "with open('rf_model.pkl', 'wb') as model_file:\n",
    "    pickle.dump(random_forest_model, model_file)\n",
    "\n",
    "print('Meta-model saved to meta_model.pkl')"
   ]
  },
  {
   "cell_type": "code",
   "execution_count": 85,
   "id": "aad5fabb",
   "metadata": {},
   "outputs": [],
   "source": [
    "# Load the meta-model from the saved file\n",
    "# with open('ens_meta_model.pkl', 'rb') as model_file:\n",
    "#     loaded_meta_model = pickle.load(model_file)\n",
    "\n",
    "# new_data = pd.DataFrame(...)\n",
    "# predictions = loaded_meta_model.predict(new_data)"
   ]
  }
 ],
 "metadata": {
  "kernelspec": {
   "display_name": "Python 3 (ipykernel)",
   "language": "python",
   "name": "python3"
  },
  "language_info": {
   "codemirror_mode": {
    "name": "ipython",
    "version": 3
   },
   "file_extension": ".py",
   "mimetype": "text/x-python",
   "name": "python",
   "nbconvert_exporter": "python",
   "pygments_lexer": "ipython3",
   "version": "3.11.4"
  }
 },
 "nbformat": 4,
 "nbformat_minor": 5
}
